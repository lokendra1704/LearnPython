{
 "cells": [
  {
   "cell_type": "raw",
   "metadata": {},
   "source": [
    "Text File:\n",
    "Text file is a file that stores information in ASCII characters. In text files, each line of text is terminated with a a special character known as EOL (End of line) character or delimiter character. When this EOL character is read or written, certain internal translation takes place"
   ]
  },
  {
   "cell_type": "code",
   "execution_count": null,
   "metadata": {},
   "outputs": [],
   "source": [
    "try:\n",
    "    file = open('HaHaHa.txt','w')\n",
    "    print(file)\n",
    "    print(type(file))\n",
    "    while True:\n",
    "        line = input(\"Enter a line \")\n",
    "        file.write(line+'\\n')\n",
    "        c = input('Enter Choice ')\n",
    "        if c in ('n','N'):\n",
    "            break\n",
    "except:\n",
    "    pass\n",
    "finally:\n",
    "    file.close()"
   ]
  },
  {
   "cell_type": "code",
   "execution_count": 12,
   "metadata": {},
   "outputs": [
    {
     "name": "stdout",
     "output_type": "stream",
     "text": [
      "<_io.TextIOWrapper name='demo.txt' mode='r' encoding='cp1252'>\n",
      "<class '_io.TextIOWrapper'>\n",
      "['Hello\\n', 'Lokendra']\n"
     ]
    }
   ],
   "source": [
    "with open('demo.txt','r') as f:\n",
    "    print(f)\n",
    "    print(type(f))\n",
    "    l = f.readlines()\n",
    "    print(l)"
   ]
  },
  {
   "cell_type": "code",
   "execution_count": null,
   "metadata": {},
   "outputs": [],
   "source": []
  }
 ],
 "metadata": {
  "kernelspec": {
   "display_name": "Python 3",
   "language": "python",
   "name": "python3"
  },
  "language_info": {
   "codemirror_mode": {
    "name": "ipython",
    "version": 3
   },
   "file_extension": ".py",
   "mimetype": "text/x-python",
   "name": "python",
   "nbconvert_exporter": "python",
   "pygments_lexer": "ipython3",
   "version": "3.6.3"
  }
 },
 "nbformat": 4,
 "nbformat_minor": 2
}
