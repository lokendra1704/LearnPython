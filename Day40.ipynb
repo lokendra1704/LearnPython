{
 "cells": [
  {
   "cell_type": "markdown",
   "metadata": {},
   "source": [
    "# SQLite\n",
    "Sqlite can be integrated with python using sqlite3 module. It produces an SQL interface complient with the DB-API 20 specifications described by PEP 249. \n",
    "\n",
    "## Steps:\n",
    "- Create a Connection object\n",
    "- Optionally create a cursor object which will help you in executing all the SQL Commands"
   ]
  },
  {
   "cell_type": "code",
   "execution_count": 1,
   "metadata": {},
   "outputs": [
    {
     "name": "stdout",
     "output_type": "stream",
     "text": [
      "Opened Database Successfully\n"
     ]
    }
   ],
   "source": [
    "import sqlite3\n",
    "try:\n",
    "    conn = sqlite3.connect('test.db')\n",
    "except:\n",
    "    print('No database exists')\n",
    "else:\n",
    "    print('Opened Database Successfully')"
   ]
  },
  {
   "cell_type": "markdown",
   "metadata": {},
   "source": [
    "# Creating Tables"
   ]
  },
  {
   "cell_type": "code",
   "execution_count": 22,
   "metadata": {},
   "outputs": [
    {
     "name": "stdout",
     "output_type": "stream",
     "text": [
      "Table Created Successfully\n"
     ]
    }
   ],
   "source": [
    "import sqlite3\n",
    "try:\n",
    "    conn = sqlite3.connect('test.db')\n",
    "    cur = conn.cursor()\n",
    "    query = \"Create table Company (ID int primary key not null, Name varchar(50) not null)\"\n",
    "    cur.execute(query)\n",
    "    cur.execute(\"insert into Company values (?, ?)\", (1,\"Lokendra\"))\n",
    "except Exception as e:\n",
    "    print(e)\n",
    "else:\n",
    "    print('Table Created Successfully')\n",
    "finally:\n",
    "    conn.commit()\n",
    "    conn.close()"
   ]
  },
  {
   "cell_type": "markdown",
   "metadata": {},
   "source": [
    "## executemany(command:str, iterator)"
   ]
  },
  {
   "cell_type": "code",
   "execution_count": 23,
   "metadata": {},
   "outputs": [
    {
     "name": "stdout",
     "output_type": "stream",
     "text": [
      "Table Created Successfully\n"
     ]
    }
   ],
   "source": [
    "import sqlite3\n",
    "try:\n",
    "    conn = sqlite3.connect('test.db')\n",
    "    cur = conn.cursor()\n",
    "    values = [(2,'Natasha'),(3,'Kanishka'),(4,'Saloni')]\n",
    "    cur.executemany(\"insert into Company values (?, ?)\", iter(values))\n",
    "except Exception as e:\n",
    "    print(e)\n",
    "else:\n",
    "    print('Success.')\n",
    "finally:\n",
    "    conn.commit()\n",
    "    conn.close()"
   ]
  },
  {
   "cell_type": "markdown",
   "metadata": {},
   "source": [
    "## Fetching Rows"
   ]
  },
  {
   "cell_type": "code",
   "execution_count": 24,
   "metadata": {},
   "outputs": [
    {
     "name": "stdout",
     "output_type": "stream",
     "text": [
      "[(1, 'Lokendra'), (2, 'Natasha'), (3, 'Kanishka'), (4, 'Saloni')]\n",
      "Table Created Successfully\n"
     ]
    }
   ],
   "source": [
    "try:\n",
    "    conn = sqlite3.connect('test.db')\n",
    "    cur = conn.cursor()\n",
    "    query = \"Select * from Company\"\n",
    "    cur.execute(query)\n",
    "    print(cur.fetchall())\n",
    "except Exception as e:\n",
    "    print(e)\n",
    "else:\n",
    "    print('Success.')\n",
    "finally:\n",
    "    conn.close()"
   ]
  }
 ],
 "metadata": {
  "kernelspec": {
   "display_name": "Python 3",
   "language": "python",
   "name": "python3"
  },
  "language_info": {
   "codemirror_mode": {
    "name": "ipython",
    "version": 3
   },
   "file_extension": ".py",
   "mimetype": "text/x-python",
   "name": "python",
   "nbconvert_exporter": "python",
   "pygments_lexer": "ipython3",
   "version": "3.6.12"
  }
 },
 "nbformat": 4,
 "nbformat_minor": 4
}
