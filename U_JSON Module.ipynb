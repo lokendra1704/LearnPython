{
 "cells": [
  {
   "cell_type": "markdown",
   "metadata": {},
   "source": [
    "# JSON Module\n",
    "\n",
    "The Json module provides an API similar to pickle for converting in-memory objects to a serialized representation known as Javascript Object Notation. Unlike pickle, JSON has the benefit of having implementation in many laguage (especially Javascript) It is most widely used for communicating between the web server and client in a REST api, but is also useful for other inter-application communication needs\n",
    "\n",
    "#Remember:\n",
    "dump() : used for dumping dictionary to json files\n",
    "dumps(): used for dumping dictionary to json string (can be read as dump string)\n",
    "Similarly for load() and loads()"
   ]
  },
  {
   "cell_type": "code",
   "execution_count": 4,
   "metadata": {},
   "outputs": [
    {
     "name": "stdout",
     "output_type": "stream",
     "text": [
      "Data [{'a': 'A', 'b': (2, 4), 'c': 3.0}]\n",
      "Type <class 'str'>\n",
      "JSON [{\"a\": \"A\", \"b\": [2, 4], \"c\": 3.0}]\n"
     ]
    }
   ],
   "source": [
    "import json\n",
    "data = [{'a': 'A', 'b': (2,4), 'c': 3.0}]\n",
    "print('Data',data)\n",
    "data_string = json.dumps(data)\n",
    "print('Type', type(data_string))\n",
    "print('JSON', data_string)"
   ]
  },
  {
   "cell_type": "code",
   "execution_count": 9,
   "metadata": {},
   "outputs": [
    {
     "name": "stdout",
     "output_type": "stream",
     "text": [
      "{\n",
      "   \"101\": {\n",
      "      \"ID\": 7,\n",
      "      \"class\": \"V\",\n",
      "      \"name\": \"rohit\"\n",
      "   },\n",
      "   \"102\": {\n",
      "      \"ID\": 8,\n",
      "      \"class\": \"V\",\n",
      "      \"name\": \"David\"\n",
      "   },\n",
      "   \"103\": {\n",
      "      \"ID\": 9,\n",
      "      \"class\": \"V\",\n",
      "      \"name\": \"Sania\"\n",
      "   }\n",
      "}\n",
      "<class 'str'>\n",
      "{'101': {'ID': 7, 'class': 'V', 'name': 'rohit'}, '102': {'ID': 8, 'class': 'V', 'name': 'David'}, '103': {'ID': 9, 'class': 'V', 'name': 'Sania'}}\n",
      "<class 'dict'>\n"
     ]
    }
   ],
   "source": [
    "#Python Dictionaries to JSON strings\n",
    "import json\n",
    "student = {'101': {'class':'V','name':'rohit','ID':7},\n",
    "           '102': {'class':'V','name':'David','ID':8},\n",
    "           '103': {'class':'V','name':'Sania','ID':9}}\n",
    "t = json.dumps(student, indent=3, sort_keys = True)\n",
    "print(t)\n",
    "print(type(t))\n",
    "s = json.loads(t)\n",
    "print(s)\n",
    "print(type(s))"
   ]
  },
  {
   "cell_type": "code",
   "execution_count": 14,
   "metadata": {},
   "outputs": [
    {
     "name": "stdout",
     "output_type": "stream",
     "text": [
      "Data {'a': 'A', 'b': (2, 4), 'c': 3.0}\n",
      "{\n",
      "   \"a\": \"A\",\n",
      "   \"b\": [\n",
      "      2,\n",
      "      4\n",
      "   ],\n",
      "   \"c\": 3.0\n",
      "}\n",
      "{'a': 'A', 'b': [2, 4], 'c': 3.0}\n",
      "<class 'dict'>\n",
      "<class 'list'>\n"
     ]
    }
   ],
   "source": [
    "#Encoding, then redecoding may not give exactly the same type of object\n",
    "import json\n",
    "data = {'a': 'A', 'b': (2,4), 'c': 3.0}\n",
    "print('Data',data)\n",
    "data_string = json.dumps(data, indent=3)\n",
    "print(data_string)\n",
    "datafromjson = json.loads(data_string)\n",
    "print(datafromjson)\n",
    "print(type(datafromjson))\n",
    "print(type(datafromjson['b']))\n",
    "#Notice the value of 'b' was tuple when dumped, but it came out to be list when loaded."
   ]
  },
  {
   "cell_type": "code",
   "execution_count": 19,
   "metadata": {},
   "outputs": [
    {
     "name": "stdout",
     "output_type": "stream",
     "text": [
      "[\n",
      "   5,\n",
      "   12,\n",
      "   13,\n",
      "   14\n",
      "]\n",
      "Type <class 'str'>\n",
      " \n",
      "\n",
      " <class 'str'>\n"
     ]
    }
   ],
   "source": [
    "#Python Lists to json array\n",
    "import json\n",
    "list1 = [5,12,13,14]\n",
    "t = json.dumps(list1, indent=3)\n",
    "print(t)\n",
    "print('Type',type(t))\n",
    "print(t[2])\n",
    "print(t[1],type(t[1]))"
   ]
  },
  {
   "cell_type": "markdown",
   "metadata": {},
   "source": [
    "### Function Definition of json.dump\n",
    "json.dump(obj, fp, *, skipkeys=False, ensure_ascii=True, check_circular=True, allow_nan=True, cls=None, indent=None, separators=None, default=None, sort_keys=False, **kw)\n",
    "\n",
    "> Serialize obj as a JSON formatted stream to fp (a .write()-supporting file-like object) using this conversion table.\n",
    "\n",
    "> If skipkeys is true (default: False), then dict keys that are not of a basic type (str, int, float, bool, None) will be skipped instead of raising a TypeError.\n",
    "\n",
    "The json module always produces str objects, not bytes objects. Therefore, fp.write() must support str input.\n",
    "\n",
    ">If ensure_ascii is true (the default), the output is guaranteed to have all incoming non-ASCII characters escaped. If ensure_ascii is false, these characters will be output as-is.\n",
    "\n",
    ">If check_circular is false (default: True), then the circular reference check for container types will be skipped and a circular reference will result in an OverflowError (or worse).\n",
    "\n",
    ">If allow_nan is false (default: True), then it will be a ValueError to serialize out of range float values (nan, inf, -inf) in strict compliance of the JSON specification. If allow_nan is true, their JavaScript equivalents (NaN, Infinity, -Infinity) will be used.\n",
    "\n",
    ">If indent is a non-negative integer or string, then JSON array elements and object members will be pretty-printed with that indent level. An indent level of 0, negative, or \"\" will only insert newlines. None (the default) selects the most compact representation. Using a positive integer indent indents that many spaces per level. If indent is a string (such as \"\\t\"), that string is used to indent each level.\n",
    "\n",
    "\n",
    "Changed in version 3.2: Allow strings for indent in addition to integers.\n",
    "\n",
    ">If specified, separators should be an (item_separator, key_separator) tuple. The default is (', ', ': ') if indent is None and (',', ': ') otherwise. To get the most compact JSON representation, you should specify (',', ':') to eliminate whitespace.\n",
    "\n",
    "\n",
    "Changed in version 3.4: Use (',', ': ') as default if indent is not None.\n",
    "\n",
    ">If specified, default should be a function that gets called for objects that can’t otherwise be serialized. It should return a JSON encodable version of the object or raise a TypeError. If not specified, TypeError is raised.\n",
    "\n",
    ">If sort_keys is true (default: False), then the output of dictionaries will be sorted by key.\n",
    "\n",
    "To use a custom JSONEncoder subclass (e.g. one that overrides the default() method to serialize additional types), specify it with the cls kwarg; otherwise JSONEncoder is used.\n"
   ]
  },
  {
   "cell_type": "code",
   "execution_count": 24,
   "metadata": {},
   "outputs": [
    {
     "name": "stdout",
     "output_type": "stream",
     "text": [
      "{'lalit': {'subject': 'python', 'age': 30}, 'Lokendra': {'subject': 'java', 'age': 20}}\n"
     ]
    }
   ],
   "source": [
    "#Writing Json into a file\n",
    "import json\n",
    "person = {\n",
    "    'lalit': {\n",
    "        'subject': 'python',\n",
    "        'age': 30\n",
    "    },\n",
    "    'Lokendra': {\n",
    "        'subject': 'java',\n",
    "        'age': 20\n",
    "    }\n",
    "}\n",
    "with open('json_file.json','wt') as f:\n",
    "    json.dump(person, f, indent=2)\n",
    "\n",
    "with open('json_file.json','rt') as f:\n",
    "    t = json.load(f)\n",
    "    print(t)"
   ]
  },
  {
   "cell_type": "markdown",
   "metadata": {},
   "source": [
    "### Function definition of json.load()\n",
    "\n",
    "json.load(fp, *, cls=None, object_hook=None, parse_float=None, parse_int=None, parse_constant=None, object_pairs_hook=None, **kw)\n",
    "\n",
    ">Deserialize fp (a .read()-supporting text file or binary file containing a JSON document) to a Python object using this conversion table.\n",
    "\n",
    ">object_hook is an optional function that will be called with the result of any object literal decoded (a dict). The return value of object_hook will be used instead of the dict. This feature can be used to implement custom decoders (e.g. JSON-RPC class hinting).\n",
    "\n",
    ">object_pairs_hook is an optional function that will be called with the result of any object literal decoded with an ordered list of pairs. The return value of object_pairs_hook will be used instead of the dict. This feature can be used to implement custom decoders. If object_hook is also defined, the object_pairs_hook takes priority.\n",
    "\n",
    "\n",
    "Changed in version 3.1: Added support for object_pairs_hook.\n",
    "\n",
    ">parse_float, if specified, will be called with the string of every JSON float to be decoded. By default, this is equivalent to float(num_str). This can be used to use another datatype or parser for JSON floats (e.g. decimal.Decimal).\n",
    "\n",
    ">parse_int, if specified, will be called with the string of every JSON int to be decoded. By default, this is equivalent to int(num_str). This can be used to use another datatype or parser for JSON integers (e.g. float).\n",
    "\n",
    ">parse_constant, if specified, will be called with one of the following strings: '-Infinity', 'Infinity', 'NaN'. This can be used to raise an exception if invalid JSON numbers are encountered.\n",
    "\n",
    "\n",
    "Changed in version 3.1: parse_constant doesn’t get called on ‘null’, ‘true’, ‘false’ anymore.\n",
    "\n",
    ">To use a custom JSONDecoder subclass, specify it with the cls kwarg; otherwise JSONDecoder is used. Additional keyword arguments will be passed to the constructor of the class.\n",
    "\n",
    "If the data being deserialized is not a valid JSON document, a JSONDecodeError will be raised.\n",
    "\n",
    "\n",
    "Changed in version 3.6: All optional parameters are now keyword-only.\n",
    "\n",
    "\n",
    "Changed in version 3.6: fp can now be a binary file. The input encoding should be UTF-8, UTF-16 or UTF-32."
   ]
  },
  {
   "cell_type": "code",
   "execution_count": 32,
   "metadata": {},
   "outputs": [
    {
     "name": "stdout",
     "output_type": "stream",
     "text": [
      "{\n",
      "  \"lalit\" = {\n",
      "    \"subject\" = \"python\",\n",
      "    \"age\" = 30\n",
      "  },\n",
      "  \"Lokendra\" = {\n",
      "    \"subject\" = \"java\",\n",
      "    \"age\" = 20\n",
      "  }\n",
      "}\n"
     ]
    }
   ],
   "source": [
    "import json\n",
    "person = {\n",
    "    'lalit': {\n",
    "        'subject': 'python',\n",
    "        'age': 30\n",
    "    },\n",
    "    'Lokendra': {\n",
    "        'subject': 'java',\n",
    "        'age': 20\n",
    "    }\n",
    "}\n",
    "t = json.dumps(person, indent = 2, separators = (',',' = '))\n",
    "print(t)"
   ]
  },
  {
   "cell_type": "code",
   "execution_count": 39,
   "metadata": {},
   "outputs": [
    {
     "name": "stdout",
     "output_type": "stream",
     "text": [
      "Called for  (2+3j)\n",
      "{\n",
      "  \"2\": 5,\n",
      "  \"1\": {\n",
      "    \"__complex__\": true,\n",
      "    \"real\": 2.0,\n",
      "    \"imag\": 3.0\n",
      "  },\n",
      "  \"3\": 9\n",
      "}\n"
     ]
    }
   ],
   "source": [
    "#Encoding Complex type objects\n",
    "def encodeComplex(obj):\n",
    "    print('Called for ',obj)\n",
    "    if isinstance(obj,complex):\n",
    "        return {\"__complex__\":True,'real': obj.real,'imag':obj.imag}\n",
    "    raise TypeError(repr(obj) + 'is not JSON Serialized')\n",
    "\n",
    "try:\n",
    "    complex_obj = json.dumps({2:5,1:2+3j,3:9},indent=2,default=encodeComplex)\n",
    "    print(complex_obj)\n",
    "except:\n",
    "    print('Error')"
   ]
  },
  {
   "cell_type": "code",
   "execution_count": 46,
   "metadata": {},
   "outputs": [
    {
     "name": "stdout",
     "output_type": "stream",
     "text": [
      "{'2': 5, '1': (2+3j), '3': 9}\n"
     ]
    }
   ],
   "source": [
    "#Decoding Complex\n",
    "def decodeComplex(obj):\n",
    "    if '__complex__' in obj:\n",
    "        return complex(obj[\"real\"],obj[\"imag\"])\n",
    "    return obj\n",
    "\n",
    "try:\n",
    "    t = json.loads(complex_obj,object_hook=decodeComplex)\n",
    "    print(t)\n",
    "except Exception as ex:\n",
    "    print(ex)"
   ]
  }
 ],
 "metadata": {
  "kernelspec": {
   "display_name": "Python 3",
   "language": "python",
   "name": "python3"
  },
  "language_info": {
   "codemirror_mode": {
    "name": "ipython",
    "version": 3
   },
   "file_extension": ".py",
   "mimetype": "text/x-python",
   "name": "python",
   "nbconvert_exporter": "python",
   "pygments_lexer": "ipython3",
   "version": "3.6.3"
  }
 },
 "nbformat": 4,
 "nbformat_minor": 2
}
