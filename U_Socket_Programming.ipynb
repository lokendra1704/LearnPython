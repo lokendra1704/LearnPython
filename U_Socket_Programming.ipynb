{
 "cells": [
  {
   "cell_type": "raw",
   "metadata": {},
   "source": [
    "> Client Process and Server Process communicate to each other by reading from and writing to sockets.\n",
    "> When creating a network application, the developer's main task is to write the code for both client and server program.\n",
    "> Peer to Peer network application can be implemented by multithreading (Different threads for client and server)\n",
    "> There are two types of network application\n",
    "    -1. Implementation of Open and Standard Protocols.\n",
    "            For such an implementation, client and servers must follow the rules of protocols as dictated by protocol's RFC.\n",
    "            Ex: Firefox Browser communicating with Apache HTTP server.\n",
    "    -2. Proprietary Network Application:\n",
    "            In this case, the client and server employ an application layer protocol that is not openly published in RFC."
   ]
  },
  {
   "cell_type": "raw",
   "metadata": {},
   "source": [
    "> During Development phase, one of the first decision the developer must make is whether the application is to run over TCP or   UDP.\n",
    "> In Open protocol implementation, the application must use the port number associated with that protocol.\n",
    "> In Proprietary network Application, developer must use ephermal port numbers."
   ]
  },
  {
   "cell_type": "raw",
   "metadata": {},
   "source": [
    "Steps for Creating Client Application using UDP as transport layer protocol:\n",
    "1. Create a UDP socket. (SOCK_DGRAM)\n",
    "    >>> client_socket = s.socket(s.AF_INET, s.SOCK_DGRAM)\n",
    "    \n",
    "2. Send Message to server.\n",
    "    >>> client_socket.sendto(msg, (s.gethostname(), 9999))\n",
    "    \n",
    "3. Recieve Message from Server, if any\n",
    "    >>> modifiedmsg, server_info = client_socket.recvfrom(2048)\n",
    "    \n",
    "4. FINALLY, close the socket.\n",
    "    >>> client_socket.close()"
   ]
  },
  {
   "cell_type": "code",
   "execution_count": null,
   "metadata": {},
   "outputs": [],
   "source": [
    "#Client Application using UDP as transport layer protocol\n",
    "import socket as s\n",
    "client_socket = s.socket(s.AF_INET, s.SOCK_DGRAM)\n",
    "serveraddress = (s.gethostname(), 9999)\n",
    "msg = bytes(input('Enter message'),'utf-8')\n",
    "client_socket.sendto(msg, serveraddress)\n",
    "# or client_socket.sendto(msg, (s.gethostname(), 9999))\n",
    "modifiedmsg, server_info = client_socket.recvfrom(2048)\n",
    "print(modifiedmsg)\n",
    "client_socket.close()"
   ]
  },
  {
   "cell_type": "raw",
   "metadata": {},
   "source": [
    "Steps for Creating Server Application using UDP as transport layer protocol:\n",
    "1. Create a UDP socket. (SOCK_DGRAM)\n",
    "    >>> client_socket = socket.socket(socket.AF_INET, socket.SOCK_DGRAM)\n",
    "    \n",
    "2. Bind Address to server.\n",
    "    >>> hostname = socket.gethostname()\n",
    "    >>> port = 9999\n",
    "    >>> address = (hostname, port)\n",
    "    >>> server_socket.bind(address)\n",
    "    \n",
    "3. Recieve Message from Client, if any\n",
    "    >>> message, client = server_socket.recvfrom(2048)\n",
    "    \n",
    "4. Send back the modified message.\n",
    "    >>> server_socket.sendto(modifiedmsg, client)\n",
    "    \n",
    "5. FINALLY, close the socket.\n",
    "    >>> server_socket.close()"
   ]
  },
  {
   "cell_type": "code",
   "execution_count": null,
   "metadata": {},
   "outputs": [],
   "source": [
    "#Server Application using UDP as transport layer protocol\n",
    "import socket as s\n",
    "server_socket = s.socket(s.AF_INET, s.SOCK_DGRAM)\n",
    "hostname = s.gethostname()\n",
    "port = 9999\n",
    "address = (hostname, port)\n",
    "server_socket.bind(address)\n",
    "while True:\n",
    "    print('The server is ready to listen')\n",
    "    message, client = server_socket.recvfrom(2048)\n",
    "    if message == b'-1':\n",
    "        print('Server Closing...')\n",
    "        server_socket.sendto(b'You commanded Server to close', client)\n",
    "        break\n",
    "    print('Message:',message,'\\n','Type of message',type(message))\n",
    "    print('Client:',client,'\\n','Type of client',type(client))\n",
    "    modifiedmsg = message.upper()\n",
    "    server_socket.sendto(modifiedmsg, client)\n",
    "server_socket.close()"
   ]
  }
 ],
 "metadata": {
  "kernelspec": {
   "display_name": "Python 3",
   "language": "python",
   "name": "python3"
  },
  "language_info": {
   "codemirror_mode": {
    "name": "ipython",
    "version": 3
   },
   "file_extension": ".py",
   "mimetype": "text/x-python",
   "name": "python",
   "nbconvert_exporter": "python",
   "pygments_lexer": "ipython3",
   "version": "3.6.3"
  }
 },
 "nbformat": 4,
 "nbformat_minor": 2
}
