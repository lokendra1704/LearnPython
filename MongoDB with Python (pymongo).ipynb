{
 "cells": [
  {
   "cell_type": "markdown",
   "metadata": {},
   "source": [
    "# MongoDB with Python\n",
    "\n",
    "Step1) Install pymongo module\n",
    "       cmd: pip install pymongo"
   ]
  },
  {
   "cell_type": "code",
   "execution_count": null,
   "metadata": {},
   "outputs": [],
   "source": [
    "import pymongo\n",
    "uri = \"mongodb://127.0.0.1:27017\"\n",
    "client = pymongo.MongoClient(uri)\n",
    "database = 'blog'\n",
    "db = client[database]\n",
    "collection = db['users']\n",
    "collection.insert({\"Name\":\"Lokendra\",\"Age\":20})"
   ]
  },
  {
   "cell_type": "code",
   "execution_count": null,
   "metadata": {},
   "outputs": [],
   "source": [
    "import pymongo\n",
    "class Database:\n",
    "    def __init__(self, db=None, collection=None, uri = \"mongodb://127.0.0.1:27017\"):\n",
    "        '''Initialize the database object with given db and collection, parameters are optional'''\n",
    "        self.client = pymongo.MongoClient(uri)\n",
    "        self.db = db\n",
    "        if db is not None:\n",
    "            self.db = self.client[db]\n",
    "        self.collection = collection\n",
    "        if (collection is not None) and (db is not None):\n",
    "            self.collection = self.db[collection]\n",
    "\n",
    "    def setdb(self,db=None):\n",
    "        '''Change the database for the object'''\n",
    "        self.db = self.client[db]\n",
    "\n",
    "    def setCollection(self, collection):\n",
    "        '''Change the collection of the object'''\n",
    "        self.collection = self.db[collection]\n",
    "\n",
    "    def insertValue(self, data, collection = None):\n",
    "        '''Insert data to collection, default value of collection is collection which is set'''\n",
    "        if collection is None:\n",
    "            self.collection.insert(data)\n",
    "        else:\n",
    "            self.db[collection].insert(data)\n",
    "        \n",
    "\n",
    "    def find(self,query={}, collection = None):\n",
    "        '''Find data with given query in the collection. If the query is not passed, displays all data of the given collection (or set collection)'''\n",
    "        pass"
   ]
  }
 ],
 "metadata": {
  "kernelspec": {
   "display_name": "Python 3",
   "language": "python",
   "name": "python3"
  },
  "language_info": {
   "codemirror_mode": {
    "name": "ipython",
    "version": 3
   },
   "file_extension": ".py",
   "mimetype": "text/x-python",
   "name": "python",
   "nbconvert_exporter": "python",
   "pygments_lexer": "ipython3",
   "version": "3.6.3"
  }
 },
 "nbformat": 4,
 "nbformat_minor": 2
}
