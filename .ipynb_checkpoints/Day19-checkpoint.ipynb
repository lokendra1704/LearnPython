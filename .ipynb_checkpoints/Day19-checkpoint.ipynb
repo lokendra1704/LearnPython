{
 "cells": [
  {
   "cell_type": "code",
   "execution_count": 1,
   "metadata": {},
   "outputs": [
    {
     "name": "stdout",
     "output_type": "stream",
     "text": [
      "5 6\n",
      "11\n"
     ]
    }
   ],
   "source": [
    "t = lambda x,y: x+y\n",
    "a,b = map(int,input().split())\n",
    "print(t(a,b))"
   ]
  },
  {
   "cell_type": "code",
   "execution_count": 2,
   "metadata": {},
   "outputs": [
    {
     "data": {
      "text/plain": [
       "[1, 8, 27, 64, 125, 216]"
      ]
     },
     "execution_count": 2,
     "metadata": {},
     "output_type": "execute_result"
    }
   ],
   "source": [
    "l = [1,2,3,4,5,6]\n",
    "def f(x):\n",
    "    return x**3\n",
    "list(map(f,l))"
   ]
  },
  {
   "cell_type": "code",
   "execution_count": 6,
   "metadata": {},
   "outputs": [
    {
     "data": {
      "text/plain": [
       "[1, 4, 9, 16, 25, 36]"
      ]
     },
     "execution_count": 6,
     "metadata": {},
     "output_type": "execute_result"
    }
   ],
   "source": [
    "l = [1,2,3,4,5,6]\n",
    "list(map(lambda x:x**2,l))"
   ]
  },
  {
   "cell_type": "code",
   "execution_count": 8,
   "metadata": {},
   "outputs": [
    {
     "data": {
      "text/plain": [
       "[(2, 7), (3, 7), (5, 2), (8, 1), (11, 5)]"
      ]
     },
     "execution_count": 8,
     "metadata": {},
     "output_type": "execute_result"
    }
   ],
   "source": [
    "l = [(3,7),(8,1),(2,7),(11,5),(5,2)]\n",
    "l.sort()\n",
    "l"
   ]
  },
  {
   "cell_type": "code",
   "execution_count": 9,
   "metadata": {},
   "outputs": [
    {
     "data": {
      "text/plain": [
       "[(8, 1), (5, 2), (11, 5), (3, 7), (2, 7)]"
      ]
     },
     "execution_count": 9,
     "metadata": {},
     "output_type": "execute_result"
    }
   ],
   "source": [
    "''' operator.itemgetter(item)\n",
    "    operator.itemgetter(*items)\n",
    "Return a callable object that fetches item from its operand using the operand’s __getitem__() method. \n",
    "If multiple items are specified, returns a tuple of lookup values.\n",
    "For example:\n",
    "\n",
    "After f = itemgetter(2), the call f(r) returns r[2].\n",
    "\n",
    "After g = itemgetter(2, 5, 3), the call g(r) returns (r[2], r[5], r[3]).'''\n",
    "\n",
    "l = [(3,7),(8,1),(2,7),(11,5),(5,2)]\n",
    "import operator\n",
    "l.sort(key = operator.itemgetter(1))\n",
    "l"
   ]
  },
  {
   "cell_type": "code",
   "execution_count": 11,
   "metadata": {},
   "outputs": [
    {
     "data": {
      "text/plain": [
       "[(8, 1), (5, 2), (11, 5), (3, 7), (2, 7)]"
      ]
     },
     "execution_count": 11,
     "metadata": {},
     "output_type": "execute_result"
    }
   ],
   "source": [
    "def f(t):\n",
    "    return t[1]\n",
    "l = [(3,7),(8,1),(2,7),(11,5),(5,2)]\n",
    "l.sort(key = f)\n",
    "l"
   ]
  },
  {
   "cell_type": "code",
   "execution_count": 1,
   "metadata": {},
   "outputs": [
    {
     "data": {
      "text/plain": [
       "[(8, 1), (5, 2), (11, 5), (3, 7), (2, 7)]"
      ]
     },
     "execution_count": 1,
     "metadata": {},
     "output_type": "execute_result"
    }
   ],
   "source": [
    "''' Both list.sort() and sorted() have a key parameter to specify a function to be called\n",
    "    on each list element prior to making comparisons.\n",
    "    The value of the key parameter should be a function that takes a single argument and\n",
    "    returns a key to use for sorting purposes.'''\n",
    "l = [(3,7),(8,1),(2,7),(11,5),(5,2)]\n",
    "l.sort(key = lambda l:l[1])\n",
    "l"
   ]
  },
  {
   "cell_type": "code",
   "execution_count": 3,
   "metadata": {},
   "outputs": [
    {
     "data": {
      "text/plain": [
       "[15, 30, 45, 60, 75, 90]"
      ]
     },
     "execution_count": 3,
     "metadata": {},
     "output_type": "execute_result"
    }
   ],
   "source": [
    "'''Filter Function'''\n",
    "'''Construct an iterator from those elements of iterable for which function returns true.\n",
    "    iterable may be either a sequence, a container which supports iteration, or an iterator. \n",
    "    If function is None, the identity function is assumed, that is, all elements of iterable\n",
    "    that are false are removed.\n",
    "    Note that filter(function, iterable) is equivalent to the generator expression \n",
    "    (item for item in iterable if function(item)) if function is not None \n",
    "    and \n",
    "    (item for item in iterable if item) if function is None.'''\n",
    "l = [i for i in range(1,101)]\n",
    "l = list(filter(lambda n: n%3==0 and n%5==0,l))\n",
    "l"
   ]
  },
  {
   "cell_type": "code",
   "execution_count": 9,
   "metadata": {},
   "outputs": [
    {
     "data": {
      "text/plain": [
       "[1, 2, 3, 5, 7, 11, 13, 17, 19, 23, 29, 31, 37, 41, 43, 47]"
      ]
     },
     "execution_count": 9,
     "metadata": {},
     "output_type": "execute_result"
    }
   ],
   "source": [
    "def Prime(n):\n",
    "    for i in range(2,n//2 + 1) :\n",
    "        if n%i==0:\n",
    "            return False\n",
    "    else:\n",
    "        return True\n",
    "l = [i for i in range(1,51)]\n",
    "l = list(filter(Prime,l))\n",
    "l"
   ]
  },
  {
   "cell_type": "code",
   "execution_count": 2,
   "metadata": {},
   "outputs": [
    {
     "name": "stdout",
     "output_type": "stream",
     "text": [
      "15\n",
      "25\n"
     ]
    }
   ],
   "source": [
    "'''functools.reduce(function, iterable[, initializer])\n",
    "\n",
    "    Apply function of two arguments cumulatively to the items of sequence, from left to right, so as to reduce\n",
    "    the sequence to a single value. For example, reduce(lambda x, y: x+y, [1, 2, 3, 4, 5]) calculates ((((1+2)+3)+4)+5).\n",
    "    The left argument, x, is the accumulated value and the right argument, y, is the update value from the sequence.\n",
    "    If the optional initializer is present, it is placed before the items of the sequence in the calculation,\n",
    "    and serves as a default when the sequence is empty. If initializer is not given and sequence contains only one item,\n",
    "    the first item is returned.'''\n",
    "from functools import reduce\n",
    "print(reduce(lambda x,y: x+y,[1,2,3,4,5]))\n",
    "print(reduce(lambda x,y: x+y,[1,2,3,4,5],10))"
   ]
  },
  {
   "cell_type": "raw",
   "metadata": {},
   "source": [
    "Iterators:\n",
    "\n",
    "By now you have probably noticed that most container objects can be looped over using a for statement. Behind the scenes, the for statement calls iter() on the container object. The function returns an iterator object that defines the method __next__() which accesses elements in the container one at a time. When there are no more elements, __next__() raises a StopIteration exception which tells the for loop to terminate. You can call the __next__() method using the next() built-in function."
   ]
  },
  {
   "cell_type": "code",
   "execution_count": 26,
   "metadata": {},
   "outputs": [
    {
     "name": "stdout",
     "output_type": "stream",
     "text": [
      "<class 'str_iterator'>\n",
      "a\n",
      "b\n",
      "c\n"
     ]
    },
    {
     "ename": "StopIteration",
     "evalue": "",
     "output_type": "error",
     "traceback": [
      "\u001b[1;31m---------------------------------------------------------------------------\u001b[0m",
      "\u001b[1;31mStopIteration\u001b[0m                             Traceback (most recent call last)",
      "\u001b[1;32m<ipython-input-26-8c0a5fe3684a>\u001b[0m in \u001b[0;36m<module>\u001b[1;34m\u001b[0m\n\u001b[0;32m      5\u001b[0m \u001b[0mprint\u001b[0m\u001b[1;33m(\u001b[0m\u001b[0mnext\u001b[0m\u001b[1;33m(\u001b[0m\u001b[0mit\u001b[0m\u001b[1;33m)\u001b[0m\u001b[1;33m)\u001b[0m\u001b[1;33m\u001b[0m\u001b[0m\n\u001b[0;32m      6\u001b[0m \u001b[0mprint\u001b[0m\u001b[1;33m(\u001b[0m\u001b[0mnext\u001b[0m\u001b[1;33m(\u001b[0m\u001b[0mit\u001b[0m\u001b[1;33m)\u001b[0m\u001b[1;33m)\u001b[0m\u001b[1;33m\u001b[0m\u001b[0m\n\u001b[1;32m----> 7\u001b[1;33m \u001b[0mprint\u001b[0m\u001b[1;33m(\u001b[0m\u001b[0mnext\u001b[0m\u001b[1;33m(\u001b[0m\u001b[0mit\u001b[0m\u001b[1;33m)\u001b[0m\u001b[1;33m)\u001b[0m\u001b[1;33m\u001b[0m\u001b[0m\n\u001b[0m",
      "\u001b[1;31mStopIteration\u001b[0m: "
     ]
    }
   ],
   "source": [
    "s = 'abc'\n",
    "it = iter(s)\n",
    "print(type(it))\n",
    "print(next(it))\n",
    "print(next(it))\n",
    "print(next(it))\n",
    "print(next(it))"
   ]
  },
  {
   "cell_type": "raw",
   "metadata": {},
   "source": [
    "Generators in Python:\n",
    "\n",
    "There are two types of generators in python:\n",
    "\n",
    "1. Generator Expression:\n",
    "Similar to list Comprehensions but creates a Generator object that produces the result one by one. According to Python docs,\n",
    "\"Some simple generators can be coded succinctly as expressions using a syntax similar to list comprehensions but with parentheses instead of brackets. Generator expressions are more compact but less versatile than full generator definitions and tend to be more memory friendly than equivalent list comprehensions.\"\n",
    "\n",
    "2. Generator Functions:\n",
    "These are very similar to regular function but instead of returning results through return statement, they use yield which allow them to suspend and resume their state.\n",
    "Generators are a simple and powerful tool for creating iterators. They are written like regular functions but use the yield statement whenever they want to return data. Each time next() is called on it, the generator resumes where it left off (it remembers all the data values and which statement was last executed)."
   ]
  },
  {
   "cell_type": "code",
   "execution_count": 20,
   "metadata": {},
   "outputs": [
    {
     "name": "stdout",
     "output_type": "stream",
     "text": [
      "Size of list: 460\n",
      "<class 'generator'>\n",
      "Size of generator object: 48\n",
      "1\n",
      "2\n",
      "3\n",
      "4\n",
      "5\n",
      "1 2 3 4 5 6 7 8 9 10 11 12 13 14 15 16 17 18 19 20 21 22 23 24 25 26 27 28 29 30 31 32 33 34 35 36 37 38 39 40 41 42 43 44 45 46 47 48 49 50 51 52 53 54 55 56 57 58 59 60 61 62 63 64 65 66 67 68 69 70 71 72 73 74 75 76 77 78 79 80 81 82 83 84 85 86 87 88 89 90 91 92 93 94 95 96 97 98 99\n"
     ]
    },
    {
     "ename": "StopIteration",
     "evalue": "",
     "output_type": "error",
     "traceback": [
      "\u001b[1;31m---------------------------------------------------------------------------\u001b[0m",
      "\u001b[1;31mStopIteration\u001b[0m                             Traceback (most recent call last)",
      "\u001b[1;32m<ipython-input-20-f86a20b0dbe9>\u001b[0m in \u001b[0;36m<module>\u001b[1;34m\u001b[0m\n\u001b[0;32m     15\u001b[0m \u001b[0ml1\u001b[0m \u001b[1;33m=\u001b[0m \u001b[0mlist\u001b[0m\u001b[1;33m(\u001b[0m\u001b[0mg\u001b[0m\u001b[1;33m)\u001b[0m\u001b[1;33m\u001b[0m\u001b[0m\n\u001b[0;32m     16\u001b[0m \u001b[0mprint\u001b[0m\u001b[1;33m(\u001b[0m\u001b[1;33m*\u001b[0m\u001b[0ml\u001b[0m\u001b[1;33m)\u001b[0m\u001b[1;33m\u001b[0m\u001b[0m\n\u001b[1;32m---> 17\u001b[1;33m \u001b[0mprint\u001b[0m\u001b[1;33m(\u001b[0m\u001b[0mnext\u001b[0m\u001b[1;33m(\u001b[0m\u001b[0mg\u001b[0m\u001b[1;33m)\u001b[0m\u001b[1;33m)\u001b[0m\u001b[1;33m\u001b[0m\u001b[0m\n\u001b[0m",
      "\u001b[1;31mStopIteration\u001b[0m: "
     ]
    }
   ],
   "source": [
    "l = [i for i in range(1,100)]\n",
    "import sys\n",
    "print('Size of list:',sys.getsizeof(l))\n",
    "\n",
    "#Generator Expressions\n",
    "g=(i for i in range(1,100))\n",
    "print(type(g))\n",
    "print('Size of generator object:',sys.getsizeof(g))\n",
    "\n",
    "print(next(g))\n",
    "print(next(g))\n",
    "print(next(g))\n",
    "print(next(g))\n",
    "print(next(g))\n",
    "l1 = list(g) #Problem\n",
    "print(*l)\n",
    "print(next(g))"
   ]
  },
  {
   "cell_type": "code",
   "execution_count": null,
   "metadata": {},
   "outputs": [],
   "source": [
    "#Generator Functions\n",
    "def f():\n",
    "    yield 1\n",
    "    yield 2\n",
    "    yield 3\n",
    "\n",
    "it = f()\n",
    "print(it)\n",
    "print(next(it))\n",
    "print(next(it))\n",
    "print(next(it))\n",
    "print(next(it))"
   ]
  },
  {
   "cell_type": "code",
   "execution_count": 13,
   "metadata": {},
   "outputs": [
    {
     "name": "stdout",
     "output_type": "stream",
     "text": [
      "<class 'generator'>\n",
      "0\n",
      "1\n",
      "2\n",
      "9\n"
     ]
    },
    {
     "ename": "StopIteration",
     "evalue": "",
     "output_type": "error",
     "traceback": [
      "\u001b[1;31m---------------------------------------------------------------------------\u001b[0m",
      "\u001b[1;31mStopIteration\u001b[0m                             Traceback (most recent call last)",
      "\u001b[1;32m<ipython-input-13-691df5395cbe>\u001b[0m in \u001b[0;36m<module>\u001b[1;34m\u001b[0m\n\u001b[0;32m     16\u001b[0m \u001b[0mitr\u001b[0m\u001b[1;33m.\u001b[0m\u001b[0msend\u001b[0m\u001b[1;33m(\u001b[0m\u001b[1;36m8\u001b[0m\u001b[1;33m)\u001b[0m\u001b[1;33m\u001b[0m\u001b[0m\n\u001b[0;32m     17\u001b[0m \u001b[0mprint\u001b[0m\u001b[1;33m(\u001b[0m\u001b[0mitr\u001b[0m\u001b[1;33m.\u001b[0m\u001b[0m__next__\u001b[0m\u001b[1;33m(\u001b[0m\u001b[1;33m)\u001b[0m\u001b[1;33m)\u001b[0m\u001b[1;33m\u001b[0m\u001b[0m\n\u001b[1;32m---> 18\u001b[1;33m \u001b[0mprint\u001b[0m\u001b[1;33m(\u001b[0m\u001b[0mitr\u001b[0m\u001b[1;33m.\u001b[0m\u001b[0m__next__\u001b[0m\u001b[1;33m(\u001b[0m\u001b[1;33m)\u001b[0m\u001b[1;33m)\u001b[0m\u001b[1;33m\u001b[0m\u001b[0m\n\u001b[0m",
      "\u001b[1;31mStopIteration\u001b[0m: "
     ]
    }
   ],
   "source": [
    "#Generator Functions with the ability to send value to the generator accordinf to PEP 342\n",
    "#The yield-statement will be allowed to be used on the right-hand side of an assignment;\n",
    "#In that case it is referred to as yield-expression.\n",
    "#The value of this yield-expression is None unless send() was called with a non-None argument;\n",
    "def counter (maximum):\n",
    "    i = 0\n",
    "    while i < maximum:\n",
    "        val = (yield i)\n",
    "        # If value provided, change counter\n",
    "        if val is not None:\n",
    "            i = val\n",
    "        else:\n",
    "            i += 1\n",
    "\n",
    "itr = counter(10)\n",
    "print(type(itr))\n",
    "print(itr.__next__()) #or print(next(it))\n",
    "print(itr.__next__())\n",
    "print(itr.__next__())\n",
    "itr.send(8)\n",
    "print(itr.__next__())\n",
    "print(itr.__next__())"
   ]
  },
  {
   "cell_type": "raw",
   "metadata": {},
   "source": [
    "Return sends a specified value back to its caller whereas yield can produce a sequence of values. We should use yield when we want to iterate over a sequence, but dont want to store the entire sequence in memory. Yield can used in python generators.\n",
    "A generator function is defined like a normal function but whenever it needs to generate a value, it does so with the yield keyword rather than return. If the body of a def contains yield it automatically becomes a generator functions and returns a generator object.\n",
    "List stores all the elements in memory all at once, whereas\n",
    "Generator create each item on the fly, displays it, and then moves to the next element, discarding the previous element from the memory"
   ]
  },
  {
   "cell_type": "code",
   "execution_count": 1,
   "metadata": {},
   "outputs": [
    {
     "name": "stdout",
     "output_type": "stream",
     "text": [
      "<class 'generator'>\n",
      "[1, 8, 27, 64, 125]\n",
      "[]\n"
     ]
    }
   ],
   "source": [
    "def cube_numbers(num):\n",
    "    for i in num:\n",
    "        yield i**3\n",
    "        i=i+1\n",
    "        \n",
    "cube = cube_numbers([1,2,3,4,5])\n",
    "print(type(cube))\n",
    "print(list(cube))\n",
    "print(list(cube))"
   ]
  }
 ],
 "metadata": {
  "kernelspec": {
   "display_name": "Python 3",
   "language": "python",
   "name": "python3"
  },
  "language_info": {
   "codemirror_mode": {
    "name": "ipython",
    "version": 3
   },
   "file_extension": ".py",
   "mimetype": "text/x-python",
   "name": "python",
   "nbconvert_exporter": "python",
   "pygments_lexer": "ipython3",
   "version": "3.6.3"
  }
 },
 "nbformat": 4,
 "nbformat_minor": 2
}
