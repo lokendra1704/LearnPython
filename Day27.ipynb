{
 "cells": [
  {
   "cell_type": "raw",
   "metadata": {},
   "source": [
    "Text File:\n",
    "Text file is a file that stores information in ASCII characters. In text files, each line of text is terminated with a a special character known as EOL (End of line) character or delimiter character. When this EOL character is read or written, certain internal translation takes place"
   ]
  },
  {
   "cell_type": "code",
   "execution_count": null,
   "metadata": {},
   "outputs": [],
   "source": [
    "try:\n",
    "    file = open('HaHaHa.txt','w')\n",
    "    print(file)\n",
    "    print(type(file))\n",
    "    while True:\n",
    "        line = input(\"Enter a line \")\n",
    "        file.write(line+'\\n')\n",
    "        c = input('Enter Choice ')\n",
    "        if c in ('n','N'):\n",
    "            break\n",
    "except:\n",
    "    pass\n",
    "finally:\n",
    "    file.close()"
   ]
  },
  {
   "cell_type": "code",
   "execution_count": 5,
   "metadata": {},
   "outputs": [
    {
     "name": "stdout",
     "output_type": "stream",
     "text": [
      "<_io.TextIOWrapper name='demo.txt' mode='r' encoding='cp1252'>\n",
      "<class '_io.TextIOWrapper'>\n",
      "['Hello\\n', 'Lokendra']\n",
      "[]\n"
     ]
    }
   ],
   "source": [
    "with open('demo.txt','r') as f:\n",
    "    print(f)\n",
    "    print(type(f))\n",
    "    l = f.readlines() #Method1\n",
    "    print(l)\n",
    "    #Reading again..\n",
    "    l2 = f.readlines() #Reading again returns an empty list\n",
    "    print(l2)"
   ]
  },
  {
   "cell_type": "code",
   "execution_count": 7,
   "metadata": {},
   "outputs": [
    {
     "name": "stdout",
     "output_type": "stream",
     "text": [
      "['Hello\\n', 'Lokendra']\n"
     ]
    }
   ],
   "source": [
    "with open('demo.txt') as f:\n",
    "    l = list(f) #Method2\n",
    "    print(l)"
   ]
  },
  {
   "cell_type": "markdown",
   "metadata": {},
   "source": [
    "## open() definiton\n",
    "open(file, mode='r', buffering=-1, encoding=None, errors=None, newline=None, closefd=True, opener=None) \n",
    "=> file object"
   ]
  },
  {
   "cell_type": "code",
   "execution_count": 8,
   "metadata": {},
   "outputs": [
    {
     "name": "stdout",
     "output_type": "stream",
     "text": [
      "Enter no of Student2\n",
      "Enter roll number of 1th Student1\n",
      "Enter name of 1th StudentLokendra\n"
     ]
    },
    {
     "ename": "TypeError",
     "evalue": "write() argument must be str, not student",
     "output_type": "error",
     "traceback": [
      "\u001b[1;31m---------------------------------------------------------------------------\u001b[0m",
      "\u001b[1;31mTypeError\u001b[0m                                 Traceback (most recent call last)",
      "\u001b[1;32m<ipython-input-8-a5a72f256cc5>\u001b[0m in \u001b[0;36m<module>\u001b[1;34m\u001b[0m\n\u001b[0;32m      8\u001b[0m     \u001b[1;32mfor\u001b[0m \u001b[0mi\u001b[0m \u001b[1;32min\u001b[0m \u001b[0mrange\u001b[0m\u001b[1;33m(\u001b[0m\u001b[0mn\u001b[0m\u001b[1;33m)\u001b[0m\u001b[1;33m:\u001b[0m\u001b[1;33m\u001b[0m\u001b[0m\n\u001b[0;32m      9\u001b[0m         \u001b[0ms\u001b[0m \u001b[1;33m=\u001b[0m \u001b[0mstudent\u001b[0m\u001b[1;33m(\u001b[0m\u001b[0mi\u001b[0m\u001b[1;33m+\u001b[0m\u001b[1;36m1\u001b[0m\u001b[1;33m)\u001b[0m\u001b[1;33m\u001b[0m\u001b[0m\n\u001b[1;32m---> 10\u001b[1;33m         \u001b[0mf\u001b[0m\u001b[1;33m.\u001b[0m\u001b[0mwrite\u001b[0m\u001b[1;33m(\u001b[0m\u001b[0ms\u001b[0m\u001b[1;33m)\u001b[0m\u001b[1;33m\u001b[0m\u001b[0m\n\u001b[0m\u001b[0;32m     11\u001b[0m \u001b[1;33m\u001b[0m\u001b[0m\n",
      "\u001b[1;31mTypeError\u001b[0m: write() argument must be str, not student"
     ]
    }
   ],
   "source": [
    "class student:\n",
    "    def __init__(self,i):\n",
    "        self.id = int(input(f'Enter roll number of {i}th Student'))\n",
    "        self.name = input(f'Enter name of {i}th Student')\n",
    "    \n",
    "n = int(input(\"Enter no of Student\"))\n",
    "with open('Student.txt','at') as f:\n",
    "    for i in range(n):\n",
    "        s = student(i+1)\n",
    "        f.write(s)\n",
    "        "
   ]
  },
  {
   "cell_type": "code",
   "execution_count": 11,
   "metadata": {},
   "outputs": [
    {
     "name": "stdout",
     "output_type": "stream",
     "text": [
      "Enter no of Student1\n",
      "Enter roll number of 1th Student1\n",
      "Enter name of 1th StudentLokendra\n"
     ]
    }
   ],
   "source": [
    "class student:\n",
    "    def __init__(self,i):\n",
    "        self.id = int(input(f'Enter roll number of {i}th Student'))\n",
    "        self.name = input(f'Enter name of {i}th Student')\n",
    "    def __str__(self):\n",
    "        return f'Student ID: {self.id}\\nStudent Name: {self.name}\\n-------------------------------\\n'\n",
    "    \n",
    "n = int(input(\"Enter no of Student\"))\n",
    "with open('Student.txt','at') as f:\n",
    "    for i in range(n):\n",
    "        s = student(i+1)\n",
    "        f.write(str(s))"
   ]
  },
  {
   "cell_type": "markdown",
   "metadata": {},
   "source": [
    "# Binary Files\n",
    "### (Serialization/Deflation and Deserialization/Inflation)\n",
    "\n",
    "Binary file is a file that contains information in the same format as it is held in memory i.e, in bytes.\n",
    "In binary files, no delimiters are used for a line and no translation occurs here so, binary files are faster and occupy lesser storage space.\n",
    "\n",
    "Serialization is the process of converting a object that can be stored in non string format and can be resurrected later. Serialization can alsi be called as deflating the data and resurrecting as inflating it.\n",
    "\n",
    "Picle module is used in serialization of data. It allow is to store data in binary file in the file. dump and load function are used to write data and read data from file."
   ]
  },
  {
   "cell_type": "code",
   "execution_count": 9,
   "metadata": {},
   "outputs": [
    {
     "name": "stdout",
     "output_type": "stream",
     "text": [
      "Enter no of Student1\n",
      "Enter roll number of 1th Student1\n",
      "Enter name of 1th StudentLokendra\n",
      "<class '__main__.student'>\n",
      "-------------------------------\n",
      "Student ID: 1\n",
      "Student Name: Lokendra\n",
      "-------------------------------\n",
      "<class 'int'>\n",
      "<class 'dict'>\n"
     ]
    }
   ],
   "source": [
    "import pickle\n",
    "class student:\n",
    "    def __init__(self,i):\n",
    "        self.id = int(input(f'Enter roll number of {i}th Student'))\n",
    "        self.name = input(f'Enter name of {i}th Student')\n",
    "    def Display(self):\n",
    "        print('-------------------------------',f'Student ID: {self.id}\\nStudent Name: {self.name}\\n-------------------------------',sep='\\n')\n",
    "\n",
    "n = int(input(\"Enter no of Student\"))\n",
    "with open('Student.bin','wb') as file:\n",
    "    for i in range(n):\n",
    "        s = student(i+1)\n",
    "        pickle.dump(s,file)\n",
    "    pickle.dump(10,file)\n",
    "    pickle.dump({1:0,2:'Bye'},file)\n",
    "\n",
    "with open('Student.bin','rb') as file:\n",
    "    while True:\n",
    "        try:\n",
    "            s = pickle.load(file)\n",
    "            print(type(s))\n",
    "            if isinstance(s,student):\n",
    "                    s.Display()\n",
    "        except Exception as e:\n",
    "            break"
   ]
  }
 ],
 "metadata": {
  "kernelspec": {
   "display_name": "Python 3",
   "language": "python",
   "name": "python3"
  },
  "language_info": {
   "codemirror_mode": {
    "name": "ipython",
    "version": 3
   },
   "file_extension": ".py",
   "mimetype": "text/x-python",
   "name": "python",
   "nbconvert_exporter": "python",
   "pygments_lexer": "ipython3",
   "version": "3.6.3"
  }
 },
 "nbformat": 4,
 "nbformat_minor": 2
}
