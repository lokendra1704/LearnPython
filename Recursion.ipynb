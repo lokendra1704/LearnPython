{
 "cells": [
  {
   "cell_type": "code",
   "execution_count": 4,
   "metadata": {},
   "outputs": [
    {
     "name": "stdout",
     "output_type": "stream",
     "text": [
      "3\n"
     ]
    }
   ],
   "source": [
    "#Finding Log2(n)\n",
    "def log2(n):\n",
    "    if n==1:\n",
    "        return 0\n",
    "    else:\n",
    "        return 1 + log2(n//2)\n",
    "\n",
    "print(log2(9))"
   ]
  },
  {
   "cell_type": "code",
   "execution_count": 7,
   "metadata": {},
   "outputs": [
    {
     "name": "stdout",
     "output_type": "stream",
     "text": [
      "10\n"
     ]
    }
   ],
   "source": [
    "#Writing Binary Equivalent\n",
    "def fun2(n,l=[]):\n",
    "    if n==0:\n",
    "        return\n",
    "    fun2(n//2)\n",
    "    l.append(str(n%2))\n",
    "    return l\n",
    "\n",
    "print(\"\".join(fun2(2)))"
   ]
  },
  {
   "cell_type": "code",
   "execution_count": 9,
   "metadata": {},
   "outputs": [
    {
     "name": "stdout",
     "output_type": "stream",
     "text": [
      " * \n",
      " *  * \n",
      " *  *  * \n"
     ]
    }
   ],
   "source": [
    "def foo(n):\n",
    "    if n>1:\n",
    "        foo(n-1)\n",
    "    print(' * '*n)\n",
    "    \n",
    "foo(3)"
   ]
  },
  {
   "cell_type": "code",
   "execution_count": 15,
   "metadata": {},
   "outputs": [
    {
     "name": "stdout",
     "output_type": "stream",
     "text": [
      "The array of size 4 is 12 10 110 50\n",
      "The array of size 3 is 12 10 110\n",
      "The array of size 2 is 12 10\n",
      "The array of size 1 is 12\n"
     ]
    },
    {
     "data": {
      "text/plain": [
       "110"
      ]
     },
     "execution_count": 15,
     "metadata": {},
     "output_type": "execute_result"
    }
   ],
   "source": [
    "#Max in an array\n",
    "arr = [12,10,110,50,100]\n",
    "def maxm(l):\n",
    "    if len(l)==1:\n",
    "        return l[0]\n",
    "    n = len(l)-1\n",
    "    print('The array of size',n,'is', *l[0:n])\n",
    "    x = maxm(l[0:n])\n",
    "    if x > l[n]:\n",
    "        return x\n",
    "    else:\n",
    "        return l[n]\n",
    "    \n",
    "maxm(arr)"
   ]
  },
  {
   "cell_type": "code",
   "execution_count": 17,
   "metadata": {},
   "outputs": [
    {
     "name": "stdout",
     "output_type": "stream",
     "text": [
      "60\n",
      "5\n"
     ]
    }
   ],
   "source": [
    "#Multiplication\n",
    "l = []\n",
    "def mul(a,b):\n",
    "    global l\n",
    "    l.append(1)\n",
    "    if b==0:\n",
    "        return 0\n",
    "    if b%2 == 0:\n",
    "        return mul(a+a,b//2)\n",
    "    return mul(a+a,b//2) + a\n",
    "\n",
    "print(mul(4,15))\n",
    "print(len(l))"
   ]
  },
  {
   "cell_type": "code",
   "execution_count": null,
   "metadata": {},
   "outputs": [],
   "source": []
  }
 ],
 "metadata": {
  "kernelspec": {
   "display_name": "Python 3",
   "language": "python",
   "name": "python3"
  },
  "language_info": {
   "codemirror_mode": {
    "name": "ipython",
    "version": 3
   },
   "file_extension": ".py",
   "mimetype": "text/x-python",
   "name": "python",
   "nbconvert_exporter": "python",
   "pygments_lexer": "ipython3",
   "version": "3.6.3"
  }
 },
 "nbformat": 4,
 "nbformat_minor": 2
}
