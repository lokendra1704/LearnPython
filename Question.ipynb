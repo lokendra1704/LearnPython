{
 "cells": [
  {
   "cell_type": "raw",
   "metadata": {},
   "source": [
    "Interview Questions\n",
    "--Maintained By Lokendra Bohra"
   ]
  },
  {
   "cell_type": "code",
   "execution_count": null,
   "metadata": {},
   "outputs": [],
   "source": [
    "#Question1\n",
    "1 or 2"
   ]
  },
  {
   "cell_type": "code",
   "execution_count": null,
   "metadata": {},
   "outputs": [],
   "source": [
    "#Question2\n",
    "1 and 3"
   ]
  },
  {
   "cell_type": "code",
   "execution_count": null,
   "metadata": {},
   "outputs": [],
   "source": [
    "#Question3\n",
    "text = ('Py'\n",
    "'thon')\n",
    "print(text)"
   ]
  },
  {
   "cell_type": "code",
   "execution_count": null,
   "metadata": {},
   "outputs": [],
   "source": [
    "#Question4\n",
    "prefix = 'Py'\n",
    "text = prefix 'thon'"
   ]
  },
  {
   "cell_type": "raw",
   "metadata": {},
   "source": [
    "#Question5\n",
    "#Write Fibonacci Sequence upto given input n"
   ]
  },
  {
   "cell_type": "raw",
   "metadata": {},
   "source": [
    "#Question6\n",
    "Write function to check whether n is a prime number"
   ]
  },
  {
   "cell_type": "code",
   "execution_count": null,
   "metadata": {},
   "outputs": [],
   "source": [
    "#Question7\n",
    "for i in [3]:\n",
    "    if i==3:\n",
    "        print('i==3')\n",
    "        break\n",
    "    print('Out of if block')\n",
    "print('Out of for loop')"
   ]
  },
  {
   "cell_type": "raw",
   "metadata": {},
   "source": [
    "#Question8\n",
    "What is a symbol table?\n",
    "\n",
    "#Question9\n",
    "Python uses which argument passing mechanism?"
   ]
  },
  {
   "cell_type": "code",
   "execution_count": null,
   "metadata": {},
   "outputs": [],
   "source": [
    "#Question10\n",
    "x=1\n",
    "def multiply(n,m=x):\n",
    "    return n*m\n",
    "\n",
    "x=3\n",
    "print(multiply(20)) # call expands to multiply(20,m=x)"
   ]
  },
  {
   "cell_type": "code",
   "execution_count": null,
   "metadata": {},
   "outputs": [],
   "source": [
    "#Question11\n",
    "def f(a, L=[]):\n",
    "    L.append(a)\n",
    "    return L\n",
    "\n",
    "print(f(1))\n",
    "print(f(2))\n",
    "print(f(3))"
   ]
  },
  {
   "cell_type": "markdown",
   "metadata": {},
   "source": [
    "### Question12\n",
    "Rewrite the code (function definition must involve one default argument) to get the expected output in previous question Expected Output:\n",
    "[1]\n",
    "[2]\n",
    "[3]"
   ]
  },
  {
   "cell_type": "markdown",
   "metadata": {},
   "source": [
    "### Question13\n",
    "\n",
    "Can you return anything (say, return \"Hello\") in __init__ method of a class?"
   ]
  }
 ],
 "metadata": {
  "kernelspec": {
   "display_name": "Python 3",
   "language": "python",
   "name": "python3"
  },
  "language_info": {
   "codemirror_mode": {
    "name": "ipython",
    "version": 3
   },
   "file_extension": ".py",
   "mimetype": "text/x-python",
   "name": "python",
   "nbconvert_exporter": "python",
   "pygments_lexer": "ipython3",
   "version": "3.6.3"
  }
 },
 "nbformat": 4,
 "nbformat_minor": 2
}
