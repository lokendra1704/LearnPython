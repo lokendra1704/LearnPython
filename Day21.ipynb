{
 "cells": [
  {
   "cell_type": "code",
   "execution_count": 1,
   "metadata": {},
   "outputs": [
    {
     "name": "stdout",
     "output_type": "stream",
     "text": [
      "<class '__main__.student'>\n",
      "<class 'type'>\n"
     ]
    }
   ],
   "source": [
    "#Class and Objects\n",
    "#Class is a user defined data types which is used to combine data and function into a single unit. Class is only a blue print.\n",
    "#No memory is allocated for class data member when we declare a class\n",
    "#We declare a class in Python using keyword 'class'\n",
    "#Write class names in small-letters\n",
    "\n",
    "class student:\n",
    "    pass\n",
    "s1=student()\n",
    "print(type(s1))\n",
    "print(type(student))"
   ]
  },
  {
   "cell_type": "code",
   "execution_count": null,
   "metadata": {},
   "outputs": [],
   "source": [
    "#s1 is an instance of <class 'student'>, which itself is an instance of <class 'type'>\n",
    "\n",
    "# s1 -------------> student -------------> type\n",
    "#       instance                instance"
   ]
  },
  {
   "cell_type": "code",
   "execution_count": 6,
   "metadata": {},
   "outputs": [
    {
     "name": "stdout",
     "output_type": "stream",
     "text": [
      "1 xyz PYTHON\n",
      "2 abc abc@email.com PYTHON\n"
     ]
    }
   ],
   "source": [
    "#Python is a dynamic language i.e, we can link attribute\n",
    "\n",
    "class student:\n",
    "    subject = \"PYTHON\" #Class Attribute\n",
    "\n",
    "s1=student()\n",
    "s1.roll = 1\n",
    "s1.name = 'xyz'\n",
    "s2 = student()\n",
    "s2.roll = 2\n",
    "s2.name = 'abc'\n",
    "s2.email = 'abc@email.com'\n",
    "#print(s1.roll,s1.name,s1.coaching) #Attribute Error\n",
    "print(s1.roll,s1.name,student.subject)\n",
    "#print(s1.roll,s1.name,s1.email,student.subject) #Attribute error\n",
    "print(s2.roll,s2.name,s2.email,student.subject)"
   ]
  },
  {
   "cell_type": "code",
   "execution_count": 7,
   "metadata": {},
   "outputs": [
    {
     "name": "stdout",
     "output_type": "stream",
     "text": [
      "1 xyz PYTHON\n"
     ]
    }
   ],
   "source": [
    "#When we dynamically link an attribute with same name as of class attribute ('subject' in this case) it does not substitutes the\n",
    "#class attribute, but make a new Instance Attribute with same name i.e, ('subject' in this case)\n",
    "s1.subject = 'java'\n",
    "print(s1.roll,s1.name,student.subject) #IMPORTANT"
   ]
  },
  {
   "cell_type": "code",
   "execution_count": 8,
   "metadata": {},
   "outputs": [
    {
     "name": "stdout",
     "output_type": "stream",
     "text": [
      "1 xyz java\n"
     ]
    }
   ],
   "source": [
    "print(s1.roll,s1.name,s1.subject)"
   ]
  },
  {
   "cell_type": "code",
   "execution_count": 13,
   "metadata": {},
   "outputs": [
    {
     "name": "stdout",
     "output_type": "stream",
     "text": [
      "Enter number of students 2\n",
      "Enter name of student Lokendra\n",
      "Enter name of student Aarushi\n",
      "1 Lokendra\n",
      "2 Aarushi\n"
     ]
    }
   ],
   "source": [
    "#Program1\n",
    "class student:\n",
    "    def display(obj):\n",
    "        print(obj.roll, obj.name)\n",
    "n = int(input('Enter number of students '))\n",
    "l=[]\n",
    "for i in range(n):\n",
    "    s=student()\n",
    "    s.roll = i+1\n",
    "    s.name = input('Enter name of student ')\n",
    "    l.append(s)\n",
    "for s in l:\n",
    "    s.display()"
   ]
  }
 ],
 "metadata": {
  "kernelspec": {
   "display_name": "Python 3",
   "language": "python",
   "name": "python3"
  },
  "language_info": {
   "codemirror_mode": {
    "name": "ipython",
    "version": 3
   },
   "file_extension": ".py",
   "mimetype": "text/x-python",
   "name": "python",
   "nbconvert_exporter": "python",
   "pygments_lexer": "ipython3",
   "version": "3.6.3"
  }
 },
 "nbformat": 4,
 "nbformat_minor": 2
}
