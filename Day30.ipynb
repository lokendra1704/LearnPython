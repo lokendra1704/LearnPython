{
 "cells": [
  {
   "cell_type": "code",
   "execution_count": 1,
   "metadata": {},
   "outputs": [],
   "source": [
    "'''Tkinter'''\n",
    "from tkinter import *\n",
    "root = Tk()\n",
    "root.title(\"My first Window\")\n",
    "root.geometry(\"400x300+300+300\")\n",
    "root.config(bg='red')\n",
    "root.mainloop()"
   ]
  },
  {
   "cell_type": "code",
   "execution_count": null,
   "metadata": {},
   "outputs": [],
   "source": [
    "from tkinter import *\n",
    "root = Tk()\n",
    "root.title(\"My first Window\")\n",
    "root.geometry(\"400x300+300+300\") #Try commenting this line\n",
    "root.config(bg='red')\n",
    "count = 0\n",
    "def Display():     #Trigger\n",
    "    global count\n",
    "    print(\"OK Button\")\n",
    "    count+=1\n",
    "    if count==1:\n",
    "        b1['state']='disable'\n",
    "def Entryfunc(event):    #Event\n",
    "    print(type(event))\n",
    "    b1['bg'] = 'green'\n",
    "def Exitfunc(event):     #Event\n",
    "    print(type(event))\n",
    "    b1['bg']='powder blue'\n",
    "b1 = Button(root, text=\"OK\",width = 30, height = 5, command = Display, bg = 'powder blue', fg = 'yellow', font = ('arial',25,'bold'), relief = RAISED, bd = 10)\n",
    "b1.bind(\"<Enter>\",Entryfunc)\n",
    "b1.bind(\"<Leave>\",Exitfunc)\n",
    "b1.pack()\n",
    "root.mainloop()"
   ]
  },
  {
   "cell_type": "code",
   "execution_count": 7,
   "metadata": {},
   "outputs": [],
   "source": [
    "from tkinter import *\n",
    "root = Tk()\n",
    "root.title(\"My first Window\")\n",
    "#root.geometry(\"400x300+300+300\") #Try commenting this line\n",
    "root.config(bg='red')\n",
    "count = 0\n",
    "def Display():     #Trigger\n",
    "    global count\n",
    "    print(\"OK Button\")\n",
    "    count+=1\n",
    "    if count==10:\n",
    "        b1['state']='disable'\n",
    "b1 = Button(root, text=\"OK\", command = Display, bg = 'powder blue', fg = 'yellow', font = ('arial',25,'bold'))\n",
    "b1.pack(side = LEFT, expand = YES, fill = X, padx = 10)\n",
    "b2 = Button(root, text=\"OK\", command = Display, bg = 'powder blue', fg = 'yellow', font = ('arial',25,'bold'))\n",
    "b2.pack(side = LEFT, expand = YES, fill = X, padx = 10)\n",
    "b3 = Button(root, text=\"OK\", command = Display, bg = 'powder blue', fg = 'yellow', font = ('arial',25,'bold'))\n",
    "b3.pack(side = LEFT, expand = YES, fill = X, padx = 10)\n",
    "root.mainloop()"
   ]
  },
  {
   "cell_type": "code",
   "execution_count": null,
   "metadata": {},
   "outputs": [],
   "source": []
  }
 ],
 "metadata": {
  "kernelspec": {
   "display_name": "Python 3",
   "language": "python",
   "name": "python3"
  },
  "language_info": {
   "codemirror_mode": {
    "name": "ipython",
    "version": 3
   },
   "file_extension": ".py",
   "mimetype": "text/x-python",
   "name": "python",
   "nbconvert_exporter": "python",
   "pygments_lexer": "ipython3",
   "version": "3.6.3"
  }
 },
 "nbformat": 4,
 "nbformat_minor": 2
}
