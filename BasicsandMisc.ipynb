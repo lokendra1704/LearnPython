{
 "cells": [
  {
   "cell_type": "code",
   "execution_count": 1,
   "metadata": {},
   "outputs": [
    {
     "name": "stdout",
     "output_type": "stream",
     "text": [
      "<class 'function'>\n",
      "<class 'tuple'>\n"
     ]
    }
   ],
   "source": [
    "def x():\n",
    "    return 1,2\n",
    "print(type(x))\n",
    "print(type(x()))"
   ]
  },
  {
   "cell_type": "code",
   "execution_count": 2,
   "metadata": {},
   "outputs": [
    {
     "name": "stdout",
     "output_type": "stream",
     "text": [
      "Wrapper Function started\n",
      "Hello\n",
      "Wrapper Function ended\n"
     ]
    }
   ],
   "source": [
    "#DecoratorFunctions\n",
    "def decorator_function(some_func):\n",
    "    def wrapper_func():\n",
    "        print(\"Wrapper Function started\")\n",
    "        some_func()\n",
    "        print(\"Wrapper Function ended\")\n",
    "    return wrapper_func\n",
    "#\n",
    "@decorator_function\n",
    "def say_hello():\n",
    "    print(\"Hello\")\n",
    "#same as\n",
    "#say_hello = decorator_function(say_hello)\n",
    "\n",
    "say_hello()"
   ]
  },
  {
   "cell_type": "code",
   "execution_count": 3,
   "metadata": {},
   "outputs": [
    {
     "name": "stdout",
     "output_type": "stream",
     "text": [
      "('d', ()) ('c', 1) ('b', 1) ('a', 1)\n",
      "('d', (5, 6, 7, 8)) ('c', 4) ('b', 3) ('a', 2)\n"
     ]
    }
   ],
   "source": [
    "#vars() returns the arguments passed to a function\n",
    "def f(a=1,b=1,c=1,*d):\n",
    "    return vars()\n",
    "\n",
    "print(*dict.items(f()))\n",
    "print(*dict.items(f(2,3,4,5,6,7,8)))"
   ]
  },
  {
   "cell_type": "code",
   "execution_count": 4,
   "metadata": {},
   "outputs": [
    {
     "ename": "SyntaxError",
     "evalue": "invalid syntax (<ipython-input-4-5b73e63232b1>, line 4)",
     "output_type": "error",
     "traceback": [
      "\u001b[1;36m  File \u001b[1;32m\"<ipython-input-4-5b73e63232b1>\"\u001b[1;36m, line \u001b[1;32m4\u001b[0m\n\u001b[1;33m    break if a>500 else pass\u001b[0m\n\u001b[1;37m           ^\u001b[0m\n\u001b[1;31mSyntaxError\u001b[0m\u001b[1;31m:\u001b[0m invalid syntax\n"
     ]
    }
   ],
   "source": [
    "#break is itself a whole statement in itself, therefore cant be use as a sub-statement\n",
    "while True:\n",
    "    a = int(input())\n",
    "    break if a>500 else pass\n",
    "print(\"Greater than 500\")"
   ]
  },
  {
   "cell_type": "code",
   "execution_count": 12,
   "metadata": {},
   "outputs": [
    {
     "name": "stdout",
     "output_type": "stream",
     "text": [
      "Time taken by your function is: 2.00006\n"
     ]
    }
   ],
   "source": [
    "#To check time taken by a code\n",
    "#template starts here\n",
    "\n",
    "import datetime\n",
    "def checkTime(f):\n",
    "    def wrapper():\n",
    "        a = datetime.datetime.now()\n",
    "        f() #you can copy your code instead of this line\n",
    "        b = datetime.datetime.now()\n",
    "        print('Time taken by your function is:',(b-a).total_seconds())\n",
    "    return wrapper\n",
    "\n",
    "#template ends here\n",
    "\n",
    "@checkTime\n",
    "def your_code():\n",
    "    import time\n",
    "    time.sleep(2)\n",
    "    \n",
    "your_code()"
   ]
  },
  {
   "cell_type": "code",
   "execution_count": 11,
   "metadata": {},
   "outputs": [
    {
     "name": "stdout",
     "output_type": "stream",
     "text": [
      "(1, 2) (1, 3) (2, 1) (2, 3) (3, 1) (3, 2)\n"
     ]
    }
   ],
   "source": [
    "#Permutations\n",
    "from itertools import permutations \n",
    "perm = permutations([1, 2, 3], 2) \n",
    "print(*perm)"
   ]
  },
  {
   "cell_type": "code",
   "execution_count": 13,
   "metadata": {},
   "outputs": [
    {
     "name": "stdout",
     "output_type": "stream",
     "text": [
      "[1, 2, 3, 4, 5, 6]\n"
     ]
    }
   ],
   "source": [
    "#Flattening List\n",
    "import itertools  \n",
    "a = [[1, 2], [3, 4], [5, 6]] \n",
    "print(list(itertools.chain.from_iterable(a)))"
   ]
  },
  {
   "cell_type": "code",
   "execution_count": 18,
   "metadata": {},
   "outputs": [
    {
     "name": "stdout",
     "output_type": "stream",
     "text": [
      "(1, 4, 7) (2, 5, 8) (3, 6, 9)\n"
     ]
    }
   ],
   "source": [
    "#Transposing Matrix\n",
    "matrix = [[1, 2, 3], [4, 5, 6], [7, 8, 9]] \n",
    "print(*zip(*matrix))"
   ]
  },
  {
   "cell_type": "code",
   "execution_count": 1,
   "metadata": {},
   "outputs": [
    {
     "name": "stdout",
     "output_type": "stream",
     "text": [
      "original: ['foo', 5, 'baz']\n",
      " list.copy(): ['foo', 5]\n",
      " slice: ['foo', 5]\n",
      " list(): ['foo', 5]\n",
      " copy: ['foo', 5]\n",
      " deepcopy: ['foo', 1]\n"
     ]
    }
   ],
   "source": [
    "\"\"\"Deep Copying\"\"\"\n",
    "import copy\n",
    "\n",
    "class Foo(object):\n",
    "    def __init__(self, val):\n",
    "         self.val = val\n",
    "\n",
    "    def __repr__(self):\n",
    "        return str(self.val)\n",
    "\n",
    "foo = Foo(1)\n",
    "\n",
    "a = ['foo', foo]\n",
    "b = a.copy()\n",
    "c = a[:]\n",
    "d = list(a)\n",
    "e = copy.copy(a)\n",
    "f = copy.deepcopy(a)\n",
    "\n",
    "# edit orignal list and instance \n",
    "a.append('baz')\n",
    "foo.val = 5\n",
    "\n",
    "print('original: %r\\n list.copy(): %r\\n slice: %r\\n list(): %r\\n copy: %r\\n deepcopy: %r'\n",
    "      % (a, b, c, d, e, f))"
   ]
  },
  {
   "cell_type": "code",
   "execution_count": 3,
   "metadata": {},
   "outputs": [
    {
     "name": "stdout",
     "output_type": "stream",
     "text": [
      "16.0\n"
     ]
    }
   ],
   "source": [
    "\"\"\"Calling a function of a module by using its name (a string)\"\"\"\n",
    "module = __import__('math')\n",
    "print(getattr(module, 'sqrt')(256))"
   ]
  },
  {
   "cell_type": "code",
   "execution_count": null,
   "metadata": {},
   "outputs": [],
   "source": []
  }
 ],
 "metadata": {
  "kernelspec": {
   "display_name": "Python 3",
   "language": "python",
   "name": "python3"
  },
  "language_info": {
   "codemirror_mode": {
    "name": "ipython",
    "version": 3
   },
   "file_extension": ".py",
   "mimetype": "text/x-python",
   "name": "python",
   "nbconvert_exporter": "python",
   "pygments_lexer": "ipython3",
   "version": "3.6.3"
  }
 },
 "nbformat": 4,
 "nbformat_minor": 2
}
