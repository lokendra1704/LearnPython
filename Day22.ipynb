{
 "cells": [
  {
   "cell_type": "code",
   "execution_count": null,
   "metadata": {},
   "outputs": [],
   "source": [
    "#No Constructor, only initializer\n",
    "class student:\n",
    "    def __init__(self):\n",
    "        print('Constructor')\n",
    "        \n",
    "s1 = student()\n",
    "print(type(s1))\n",
    "\n",
    "#method __init__ itself got called that means that must be the constructor"
   ]
  },
  {
   "cell_type": "code",
   "execution_count": 7,
   "metadata": {},
   "outputs": [
    {
     "name": "stdout",
     "output_type": "stream",
     "text": [
      "new method\n",
      "<class 'NoneType'>\n"
     ]
    }
   ],
   "source": [
    "class student:\n",
    "    def __new__(cls):\n",
    "        print('new method')\n",
    "    def __init__(self):\n",
    "        print('Initializer')\n",
    "        \n",
    "s1 = student() \n",
    "print(type(s1))\n",
    "\n",
    "#Output must be:\n",
    "#Intitializer\n",
    "#<class '__main__.student'>"
   ]
  },
  {
   "cell_type": "raw",
   "metadata": {},
   "source": [
    "<class 'NoneType'> ??\n",
    "Yes, Because memory to s1 couldn't be allocated since you override the __new__ method and didn't write memory allocation code.\n",
    "\n",
    "-------------------------------------------------------------------------------------------------------------------------------\n",
    "# What is __new__ ?\n",
    "\n",
    ">    __new__ is Class Method which performs the memory allocation job for objects. That is, it is called before creation of\n",
    "    object, to actually create the object. So its obvious that it couldn't be Instance Method.\n",
    "-------------------------------------------------------------------------------------------------------------------------------\n",
    "#But I never defined __new__ method in previous demonstration?\n",
    "\n",
    ">   Yes, What happened in previous cases was, it was inherited from <class 'object'> which is the parent class of all class we\n",
    "    define.\n",
    "-------------------------------------------------------------------------------------------------------------------------------\n",
    "#What is class method? how it is different from Instance method? Are there any other types of methods available?\n",
    "\n",
    ">   Hold on....Everything will be demonstrated in coming snippets. Untill then, remember there are three types of method\n",
    "    available:\n",
    "    1. Class Method\n",
    "    2. Static Method\n",
    "    3. Instance Method\n",
    "-------------------------------------------------------------------------------------------------------------------------------    \n",
    "Let's dig in more...."
   ]
  },
  {
   "cell_type": "code",
   "execution_count": 10,
   "metadata": {},
   "outputs": [
    {
     "name": "stdout",
     "output_type": "stream",
     "text": [
      "new method\n",
      "Value of cls:\t <class '__main__.student'>\n",
      "type of cls:\t <class 'type'>\n",
      "Initializer\n",
      "Type of self:\t <class '__main__.student'>\n",
      "<class '__main__.student'>\n"
     ]
    }
   ],
   "source": [
    "class student:\n",
    "    def __new__(cls):\n",
    "        print(\"new method\")\n",
    "        print('Value of cls:\\t',cls)\n",
    "        print('type of cls:\\t',type(cls))\n",
    "        return object.__new__(cls)\n",
    "    def __init__(self):\n",
    "        print(\"Initializer\")\n",
    "        print('Type of self:\\t', type(self))\n",
    "        \n",
    "s1 = student()\n",
    "print(type(s1))"
   ]
  },
  {
   "cell_type": "raw",
   "metadata": {},
   "source": [
    "Notice that the value (not type) of cls is <class '__main__.student'>\n",
    "and type of cls is <class 'type'>\n",
    "Does that means class is passed as a argument in __new__ method?\n",
    ">Think"
   ]
  },
  {
   "cell_type": "code",
   "execution_count": 14,
   "metadata": {},
   "outputs": [
    {
     "name": "stdout",
     "output_type": "stream",
     "text": [
      "new method\n",
      "Value of cls:\t <class '__main__.student'>\n",
      "type of cls:\t <class 'type'>\n",
      "Initializer\n",
      "Type of self:\t <class '__main__.student'>\n",
      "Calling Destructor...Your object will now be deleted from the memory\n"
     ]
    },
    {
     "ename": "NameError",
     "evalue": "name 's1' is not defined",
     "output_type": "error",
     "traceback": [
      "\u001b[1;31m---------------------------------------------------------------------------\u001b[0m",
      "\u001b[1;31mNameError\u001b[0m                                 Traceback (most recent call last)",
      "\u001b[1;32m<ipython-input-14-2c9ae626d34a>\u001b[0m in \u001b[0;36m<module>\u001b[1;34m\u001b[0m\n\u001b[0;32m     15\u001b[0m \u001b[0ms1\u001b[0m \u001b[1;33m=\u001b[0m \u001b[0mstudent\u001b[0m\u001b[1;33m(\u001b[0m\u001b[1;33m)\u001b[0m\u001b[1;33m\u001b[0m\u001b[0m\n\u001b[0;32m     16\u001b[0m \u001b[1;32mdel\u001b[0m \u001b[0ms1\u001b[0m\u001b[1;33m\u001b[0m\u001b[0m\n\u001b[1;32m---> 17\u001b[1;33m \u001b[0mprint\u001b[0m\u001b[1;33m(\u001b[0m\u001b[0mtype\u001b[0m\u001b[1;33m(\u001b[0m\u001b[0ms1\u001b[0m\u001b[1;33m)\u001b[0m\u001b[1;33m)\u001b[0m \u001b[1;31m#NameError\u001b[0m\u001b[1;33m\u001b[0m\u001b[0m\n\u001b[0m",
      "\u001b[1;31mNameError\u001b[0m: name 's1' is not defined"
     ]
    }
   ],
   "source": [
    "class student:\n",
    "    def __new__(cls):\n",
    "        print(\"new method\")\n",
    "        print('Value of cls:\\t',cls)\n",
    "        print('type of cls:\\t',type(cls))\n",
    "        return object.__new__(cls)\n",
    "    \n",
    "    def __init__(self):\n",
    "        print(\"Initializer\")\n",
    "        print('Type of self:\\t', type(self))\n",
    "    \n",
    "    def __del__(self):\n",
    "        print('Calling Destructor...Your object will now be deleted from the memory')\n",
    "        \n",
    "s1 = student()\n",
    "del s1\n",
    "print(type(s1)) #NameError"
   ]
  },
  {
   "cell_type": "raw",
   "metadata": {},
   "source": [
    "Lets's Explore the types of methods available in class:\n",
    "1. Instance Method: Methods that take object (reference of calling object) as an argument\n",
    "2. Static Method:   Methods that dont take any argument.\n",
    "3. Class Method:    Methods that take class as argument."
   ]
  },
  {
   "cell_type": "code",
   "execution_count": 17,
   "metadata": {},
   "outputs": [
    {
     "name": "stdout",
     "output_type": "stream",
     "text": [
      "Instance Method\n",
      "type of self:\t <class '__main__.methods'>\n",
      "Static Method\n",
      "Class Method\n",
      "type of cls:\t <class 'type'>\n"
     ]
    }
   ],
   "source": [
    "class methods:\n",
    "    def instanceMethod(self):\n",
    "        print(\"Instance Method\")\n",
    "        print(\"type of self:\\t\",type(self))\n",
    "    \n",
    "    def staticMethod():\n",
    "        print(\"Static Method\")\n",
    "        #Notice here is no argument\n",
    "        #Static Method can only access class attributes or static methods.\n",
    "        #Static Method CANNOT access Instance attributes or call Instance Methods\n",
    "        \n",
    "    def classMethod(cls):\n",
    "        print(\"Class Method\")\n",
    "        print(\"type of cls:\\t\",type(cls))\n",
    "    \n",
    "    staticMethod = staticmethod(staticMethod) #Decorators\n",
    "    classMethod = classmethod(classMethod)    #Decorators\n",
    "    \n",
    "m1 = methods()\n",
    "methods.instanceMethod(m1) #m1.instanceMethod()\n",
    "methods.staticMethod() #m1.staticMethod()\n",
    "methods.classMethod() #m1.classMethod()"
   ]
  },
  {
   "cell_type": "raw",
   "metadata": {},
   "source": [
    "Static Methods in Python:\n",
    "\n",
    "static methods are used when we need to process data associated with class instead od instances. A static method has no self argument and it is needed in a class and is designed to work on class attributes instead of instance attributes.\n",
    "static methods never recieve an automatic self arguments, whether called through a class or an instance. They usually keep track of information thart spans all instances rather than providing behaviour"
   ]
  },
  {
   "cell_type": "code",
   "execution_count": 21,
   "metadata": {},
   "outputs": [
    {
     "name": "stdout",
     "output_type": "stream",
     "text": [
      "Total No of Objects created are 3\n"
     ]
    }
   ],
   "source": [
    "#Object Counter\n",
    "class S:\n",
    "    objects = 0\n",
    "    def __init__(self):\n",
    "        S.objects = S.objects + 1\n",
    "    \n",
    "    @staticmethod\n",
    "    def totalObjects():\n",
    "        print(\"Total No of Objects created are\",S.objects)\n",
    "\n",
    "a = S()\n",
    "b = S()\n",
    "c = S()\n",
    "S.totalObjects()"
   ]
  }
 ],
 "metadata": {
  "kernelspec": {
   "display_name": "Python 3",
   "language": "python",
   "name": "python3"
  },
  "language_info": {
   "codemirror_mode": {
    "name": "ipython",
    "version": 3
   },
   "file_extension": ".py",
   "mimetype": "text/x-python",
   "name": "python",
   "nbconvert_exporter": "python",
   "pygments_lexer": "ipython3",
   "version": "3.6.3"
  }
 },
 "nbformat": 4,
 "nbformat_minor": 2
}
