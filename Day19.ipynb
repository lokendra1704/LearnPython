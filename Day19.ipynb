{
 "cells": [
  {
   "cell_type": "code",
   "execution_count": 1,
   "metadata": {},
   "outputs": [
    {
     "name": "stdout",
     "output_type": "stream",
     "text": [
      "5 6\n",
      "11\n"
     ]
    }
   ],
   "source": [
    "t = lambda x,y: x+y\n",
    "a,b = map(int,input().split())\n",
    "print(t(a,b))"
   ]
  },
  {
   "cell_type": "code",
   "execution_count": 2,
   "metadata": {},
   "outputs": [
    {
     "data": {
      "text/plain": [
       "[1, 8, 27, 64, 125, 216]"
      ]
     },
     "execution_count": 2,
     "metadata": {},
     "output_type": "execute_result"
    }
   ],
   "source": [
    "l = [1,2,3,4,5,6]\n",
    "def f(x):\n",
    "    return x**3\n",
    "list(map(f,l))"
   ]
  },
  {
   "cell_type": "code",
   "execution_count": 6,
   "metadata": {},
   "outputs": [
    {
     "data": {
      "text/plain": [
       "[1, 4, 9, 16, 25, 36]"
      ]
     },
     "execution_count": 6,
     "metadata": {},
     "output_type": "execute_result"
    }
   ],
   "source": [
    "l = [1,2,3,4,5,6]\n",
    "list(map(lambda x:x**2,l))"
   ]
  },
  {
   "cell_type": "code",
   "execution_count": 8,
   "metadata": {},
   "outputs": [
    {
     "data": {
      "text/plain": [
       "[(2, 7), (3, 7), (5, 2), (8, 1), (11, 5)]"
      ]
     },
     "execution_count": 8,
     "metadata": {},
     "output_type": "execute_result"
    }
   ],
   "source": [
    "l = [(3,7),(8,1),(2,7),(11,5),(5,2)]\n",
    "l.sort()\n",
    "l"
   ]
  },
  {
   "cell_type": "code",
   "execution_count": 9,
   "metadata": {},
   "outputs": [
    {
     "data": {
      "text/plain": [
       "[(8, 1), (5, 2), (11, 5), (3, 7), (2, 7)]"
      ]
     },
     "execution_count": 9,
     "metadata": {},
     "output_type": "execute_result"
    }
   ],
   "source": [
    "''' operator.itemgetter(item)\n",
    "    operator.itemgetter(*items)\n",
    "Return a callable object that fetches item from its operand using the operand’s __getitem__() method. \n",
    "If multiple items are specified, returns a tuple of lookup values.\n",
    "For example:\n",
    "\n",
    "After f = itemgetter(2), the call f(r) returns r[2].\n",
    "\n",
    "After g = itemgetter(2, 5, 3), the call g(r) returns (r[2], r[5], r[3]).'''\n",
    "\n",
    "l = [(3,7),(8,1),(2,7),(11,5),(5,2)]\n",
    "import operator\n",
    "l.sort(key = operator.itemgetter(1))\n",
    "l"
   ]
  },
  {
   "cell_type": "code",
   "execution_count": 11,
   "metadata": {},
   "outputs": [
    {
     "data": {
      "text/plain": [
       "[(8, 1), (5, 2), (11, 5), (3, 7), (2, 7)]"
      ]
     },
     "execution_count": 11,
     "metadata": {},
     "output_type": "execute_result"
    }
   ],
   "source": [
    "def f(t):\n",
    "    return t[1]\n",
    "l = [(3,7),(8,1),(2,7),(11,5),(5,2)]\n",
    "l.sort(key = f)\n",
    "l"
   ]
  },
  {
   "cell_type": "code",
   "execution_count": 1,
   "metadata": {},
   "outputs": [
    {
     "data": {
      "text/plain": [
       "[(8, 1), (5, 2), (11, 5), (3, 7), (2, 7)]"
      ]
     },
     "execution_count": 1,
     "metadata": {},
     "output_type": "execute_result"
    }
   ],
   "source": [
    "''' Both list.sort() and sorted() have a key parameterto specify a function to be called\n",
    "    on each list element prior to making comparisons.\n",
    "    The value of the key parameter should be a function that takes a single argument and\n",
    "    returns a key to use for sorting purposes.'''\n",
    "l = [(3,7),(8,1),(2,7),(11,5),(5,2)]\n",
    "l.sort(key = lambda l:l[1])\n",
    "l"
   ]
  },
  {
   "cell_type": "code",
   "execution_count": 3,
   "metadata": {},
   "outputs": [
    {
     "data": {
      "text/plain": [
       "[15, 30, 45, 60, 75, 90]"
      ]
     },
     "execution_count": 3,
     "metadata": {},
     "output_type": "execute_result"
    }
   ],
   "source": [
    "'''Filter Function'''\n",
    "'''Construct an iterator from those elements of iterable for which function returns true.\n",
    "    iterable may be either a sequence, a container which supports iteration, or an iterator. \n",
    "    If function is None, the identity function is assumed, that is, all elements of iterable\n",
    "    that are false are removed.\n",
    "    Note that filter(function, iterable) is equivalent to the generator expression \n",
    "    (item for item in iterable if function(item)) if function is not None \n",
    "    and \n",
    "    (item for item in iterable if item) if function is None.'''\n",
    "l = [i for i in range(1,101)]\n",
    "l = list(filter(lambda n: n%3==0 and n%5==0,l))\n",
    "l"
   ]
  },
  {
   "cell_type": "code",
   "execution_count": 9,
   "metadata": {},
   "outputs": [
    {
     "data": {
      "text/plain": [
       "[1, 2, 3, 5, 7, 11, 13, 17, 19, 23, 29, 31, 37, 41, 43, 47]"
      ]
     },
     "execution_count": 9,
     "metadata": {},
     "output_type": "execute_result"
    }
   ],
   "source": [
    "def Prime(n):\n",
    "    for i in range(2,n//2 + 1) :\n",
    "        if n%i==0:\n",
    "            return False\n",
    "    else:\n",
    "        return True\n",
    "l = [i for i in range(1,51)]\n",
    "l = list(filter(Prime,l))\n",
    "l"
   ]
  },
  {
   "cell_type": "code",
   "execution_count": 16,
   "metadata": {},
   "outputs": [
    {
     "data": {
      "text/plain": [
       "26"
      ]
     },
     "execution_count": 16,
     "metadata": {},
     "output_type": "execute_result"
    }
   ],
   "source": [
    "'''functools.reduce(function, iterable[, initializer])\n",
    "\n",
    "    Apply function of two arguments cumulatively to the items of sequence, from left to right, so as to reduce\n",
    "    the sequence to a single value. For example, reduce(lambda x, y: x+y, [1, 2, 3, 4, 5]) calculates ((((1+2)+3)+4)+5).\n",
    "    The left argument, x, is the accumulated value and the right argument, y, is the update value from the sequence.\n",
    "    If the optional initializer is present, it is placed before the items of the sequence in the calculation,\n",
    "    and serves as a default when the sequence is empty. If initializer is not given and sequence contains only one item,\n",
    "    the first item is returned.'''\n",
    "from functools import reduce\n",
    "reduce(lambda x,y: x+y,[1,2,3,4,5])\n",
    "reduce(lambda x,y: x+y,[1,2,3,4,5],10)"
   ]
  },
  {
   "cell_type": "code",
   "execution_count": null,
   "metadata": {},
   "outputs": [],
   "source": []
  }
 ],
 "metadata": {
  "kernelspec": {
   "display_name": "Python 3",
   "language": "python",
   "name": "python3"
  },
  "language_info": {
   "codemirror_mode": {
    "name": "ipython",
    "version": 3
   },
   "file_extension": ".py",
   "mimetype": "text/x-python",
   "name": "python",
   "nbconvert_exporter": "python",
   "pygments_lexer": "ipython3",
   "version": "3.6.3"
  }
 },
 "nbformat": 4,
 "nbformat_minor": 2
}
